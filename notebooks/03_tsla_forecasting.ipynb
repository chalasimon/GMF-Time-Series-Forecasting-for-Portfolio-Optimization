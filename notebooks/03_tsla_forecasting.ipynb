{
 "cells": [
  {
   "cell_type": "markdown",
   "id": "d9b623b2",
   "metadata": {},
   "source": [
    "# Task 2: Develop Time Series Forecasting Models"
   ]
  },
  {
   "cell_type": "code",
   "execution_count": 1,
   "id": "6bb0a31f",
   "metadata": {},
   "outputs": [],
   "source": [
    "# import libraries and and configurations\n",
    "import sys, os\n",
    "sys.path.append(\"../src\")\n",
    "\n",
    "import pandas as pd\n",
    "import matplotlib.pyplot as plt\n",
    "import importlib\n",
    "import data_processing\n",
    "import forecasting"
   ]
  },
  {
   "cell_type": "markdown",
   "id": "78d02784",
   "metadata": {},
   "source": [
    "#### Loading the data"
   ]
  },
  {
   "cell_type": "code",
   "execution_count": 2,
   "id": "b4e8bbb2",
   "metadata": {},
   "outputs": [
    {
     "data": {
      "application/vnd.microsoft.datawrangler.viewer.v0+json": {
       "columns": [
        {
         "name": "Date",
         "rawType": "datetime64[ns]",
         "type": "datetime"
        },
        {
         "name": "Open",
         "rawType": "float64",
         "type": "float"
        },
        {
         "name": "High",
         "rawType": "float64",
         "type": "float"
        },
        {
         "name": "Low",
         "rawType": "float64",
         "type": "float"
        },
        {
         "name": "Close",
         "rawType": "float64",
         "type": "float"
        },
        {
         "name": "Volume",
         "rawType": "int64",
         "type": "integer"
        }
       ],
       "ref": "31decae6-a496-4d2d-a912-66627020658e",
       "rows": [
        [
         "2015-07-01 00:00:00",
         "18.073999404907227",
         "18.17466735839844",
         "17.856666564941406",
         "17.94333267211914",
         "31518000"
        ],
        [
         "2015-07-02 00:00:00",
         "18.68000030517578",
         "18.82999992370605",
         "18.220666885375977",
         "18.667999267578125",
         "107458500"
        ],
        [
         "2015-07-06 00:00:00",
         "18.59199905395508",
         "18.779333114624023",
         "18.420000076293945",
         "18.64800071716309",
         "61828500"
        ],
        [
         "2015-07-07 00:00:00",
         "18.333332061767575",
         "18.34666633605957",
         "17.384666442871094",
         "17.858667373657227",
         "91576500"
        ],
        [
         "2015-07-08 00:00:00",
         "17.288000106811523",
         "17.386667251586914",
         "16.95400047302246",
         "16.997333526611328",
         "93316500"
        ]
       ],
       "shape": {
        "columns": 5,
        "rows": 5
       }
      },
      "text/html": [
       "<div>\n",
       "<style scoped>\n",
       "    .dataframe tbody tr th:only-of-type {\n",
       "        vertical-align: middle;\n",
       "    }\n",
       "\n",
       "    .dataframe tbody tr th {\n",
       "        vertical-align: top;\n",
       "    }\n",
       "\n",
       "    .dataframe thead th {\n",
       "        text-align: right;\n",
       "    }\n",
       "</style>\n",
       "<table border=\"1\" class=\"dataframe\">\n",
       "  <thead>\n",
       "    <tr style=\"text-align: right;\">\n",
       "      <th></th>\n",
       "      <th>Open</th>\n",
       "      <th>High</th>\n",
       "      <th>Low</th>\n",
       "      <th>Close</th>\n",
       "      <th>Volume</th>\n",
       "    </tr>\n",
       "    <tr>\n",
       "      <th>Date</th>\n",
       "      <th></th>\n",
       "      <th></th>\n",
       "      <th></th>\n",
       "      <th></th>\n",
       "      <th></th>\n",
       "    </tr>\n",
       "  </thead>\n",
       "  <tbody>\n",
       "    <tr>\n",
       "      <th>2015-07-01</th>\n",
       "      <td>18.073999</td>\n",
       "      <td>18.174667</td>\n",
       "      <td>17.856667</td>\n",
       "      <td>17.943333</td>\n",
       "      <td>31518000</td>\n",
       "    </tr>\n",
       "    <tr>\n",
       "      <th>2015-07-02</th>\n",
       "      <td>18.680000</td>\n",
       "      <td>18.830000</td>\n",
       "      <td>18.220667</td>\n",
       "      <td>18.667999</td>\n",
       "      <td>107458500</td>\n",
       "    </tr>\n",
       "    <tr>\n",
       "      <th>2015-07-06</th>\n",
       "      <td>18.591999</td>\n",
       "      <td>18.779333</td>\n",
       "      <td>18.420000</td>\n",
       "      <td>18.648001</td>\n",
       "      <td>61828500</td>\n",
       "    </tr>\n",
       "    <tr>\n",
       "      <th>2015-07-07</th>\n",
       "      <td>18.333332</td>\n",
       "      <td>18.346666</td>\n",
       "      <td>17.384666</td>\n",
       "      <td>17.858667</td>\n",
       "      <td>91576500</td>\n",
       "    </tr>\n",
       "    <tr>\n",
       "      <th>2015-07-08</th>\n",
       "      <td>17.288000</td>\n",
       "      <td>17.386667</td>\n",
       "      <td>16.954000</td>\n",
       "      <td>16.997334</td>\n",
       "      <td>93316500</td>\n",
       "    </tr>\n",
       "  </tbody>\n",
       "</table>\n",
       "</div>"
      ],
      "text/plain": [
       "                 Open       High        Low      Close     Volume\n",
       "Date                                                             \n",
       "2015-07-01  18.073999  18.174667  17.856667  17.943333   31518000\n",
       "2015-07-02  18.680000  18.830000  18.220667  18.667999  107458500\n",
       "2015-07-06  18.591999  18.779333  18.420000  18.648001   61828500\n",
       "2015-07-07  18.333332  18.346666  17.384666  17.858667   91576500\n",
       "2015-07-08  17.288000  17.386667  16.954000  16.997334   93316500"
      ]
     },
     "execution_count": 2,
     "metadata": {},
     "output_type": "execute_result"
    }
   ],
   "source": [
    "# Load the data\n",
    "df = pd.read_csv(\"../data/TSLA.csv\", parse_dates=[\"Date\"], index_col=\"Date\")\n",
    "# Display the first few rows of the dataframe\n",
    "df.head()"
   ]
  },
  {
   "cell_type": "markdown",
   "id": "3ddcada1",
   "metadata": {},
   "source": [
    "#### Preprocessing the data\n",
    "- Fill missing values\n",
    "- Normalize the data"
   ]
  },
  {
   "cell_type": "code",
   "execution_count": 9,
   "id": "065ead34",
   "metadata": {},
   "outputs": [],
   "source": [
    "importlib.reload(data_processing)\n",
    "from data_processing import clean_and_normalize"
   ]
  },
  {
   "cell_type": "code",
   "execution_count": 11,
   "id": "37a863cc",
   "metadata": {},
   "outputs": [
    {
     "name": "stdout",
     "output_type": "stream",
     "text": [
      "Missing values in each column:\n",
      "Open      0\n",
      "High      0\n",
      "Low       0\n",
      "Close     0\n",
      "Volume    0\n",
      "dtype: int64\n"
     ]
    },
    {
     "name": "stderr",
     "output_type": "stream",
     "text": [
      "/home/chalasimon/Documents/10academy/week 11/challenges/GMF-Time-Series-Forecasting-for-Portfolio-Optimization/notebooks/../src/data_processing.py:36: FutureWarning: A value is trying to be set on a copy of a DataFrame or Series through chained assignment using an inplace method.\n",
      "The behavior will change in pandas 3.0. This inplace method will never work because the intermediate object on which we are setting values always behaves as a copy.\n",
      "\n",
      "For example, when doing 'df[col].method(value, inplace=True)', try using 'df.method({col: value}, inplace=True)' or df[col] = df[col].method(value) instead, to perform the operation inplace on the original object.\n",
      "\n",
      "\n",
      "  df[col] = (df[col] - df[col].min()) / (df[col].max() - df[col].min())\n",
      "/home/chalasimon/Documents/10academy/week 11/challenges/GMF-Time-Series-Forecasting-for-Portfolio-Optimization/notebooks/../src/data_processing.py:36: FutureWarning: Series.fillna with 'method' is deprecated and will raise in a future version. Use obj.ffill() or obj.bfill() instead.\n",
      "  df[col] = (df[col] - df[col].min()) / (df[col].max() - df[col].min())\n",
      "/home/chalasimon/Documents/10academy/week 11/challenges/GMF-Time-Series-Forecasting-for-Portfolio-Optimization/notebooks/../src/data_processing.py:37: FutureWarning: A value is trying to be set on a copy of a DataFrame or Series through chained assignment using an inplace method.\n",
      "The behavior will change in pandas 3.0. This inplace method will never work because the intermediate object on which we are setting values always behaves as a copy.\n",
      "\n",
      "For example, when doing 'df[col].method(value, inplace=True)', try using 'df.method({col: value}, inplace=True)' or df[col] = df[col].method(value) instead, to perform the operation inplace on the original object.\n",
      "\n",
      "\n",
      "  \n",
      "/home/chalasimon/Documents/10academy/week 11/challenges/GMF-Time-Series-Forecasting-for-Portfolio-Optimization/notebooks/../src/data_processing.py:37: FutureWarning: Series.fillna with 'method' is deprecated and will raise in a future version. Use obj.ffill() or obj.bfill() instead.\n",
      "  \n"
     ]
    }
   ],
   "source": [
    "clean_df = clean_and_normalize(df)\n",
    "# Display the number of missing values in each column\n",
    "missing_values = clean_df.isnull().sum()\n",
    "print(\"Missing values in each column:\")\n",
    "print(missing_values)"
   ]
  },
  {
   "cell_type": "markdown",
   "id": "d6bdefe3",
   "metadata": {},
   "source": [
    "#### Splitting the data into training and testing sets"
   ]
  },
  {
   "cell_type": "code",
   "execution_count": 4,
   "id": "ffc7c05b",
   "metadata": {},
   "outputs": [],
   "source": [
    "from forecasting import chronological_split"
   ]
  }
 ],
 "metadata": {
  "kernelspec": {
   "display_name": ".venv",
   "language": "python",
   "name": "python3"
  },
  "language_info": {
   "codemirror_mode": {
    "name": "ipython",
    "version": 3
   },
   "file_extension": ".py",
   "mimetype": "text/x-python",
   "name": "python",
   "nbconvert_exporter": "python",
   "pygments_lexer": "ipython3",
   "version": "3.12.3"
  }
 },
 "nbformat": 4,
 "nbformat_minor": 5
}
