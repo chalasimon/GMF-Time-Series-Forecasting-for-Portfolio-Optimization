{
 "cells": [
  {
   "cell_type": "markdown",
   "id": "d9b623b2",
   "metadata": {},
   "source": [
    "# Task 2: Develop Time Series Forecasting Models"
   ]
  }
 ],
 "metadata": {
  "language_info": {
   "name": "python"
  }
 },
 "nbformat": 4,
 "nbformat_minor": 5
}
