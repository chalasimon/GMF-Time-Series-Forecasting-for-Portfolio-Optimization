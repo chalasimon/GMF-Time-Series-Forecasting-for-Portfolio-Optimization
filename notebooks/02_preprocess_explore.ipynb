{
 "cells": [
  {
   "cell_type": "markdown",
   "id": "cd4b879e",
   "metadata": {},
   "source": [
    "# Task 1: Preprocess and EDA"
   ]
  },
  {
   "cell_type": "code",
   "execution_count": 1,
   "id": "5afd4f40",
   "metadata": {},
   "outputs": [],
   "source": [
    "# Imports and setup\n",
    "import sys\n",
    "sys.path.append(\"../src\")\n",
    "import matplotlib.pyplot as plt\n",
    "import seaborn as sns\n",
    "import pandas as pd"
   ]
  },
  {
   "cell_type": "code",
   "execution_count": 2,
   "id": "808c0018",
   "metadata": {},
   "outputs": [],
   "source": [
    "# import the data fetching function\n",
    "from data_processing import load_asset_data"
   ]
  },
  {
   "cell_type": "code",
   "execution_count": 4,
   "id": "b3b442d8",
   "metadata": {},
   "outputs": [
    {
     "name": "stdout",
     "output_type": "stream",
     "text": [
      "Data for TSLA:\n",
      "                 Open       High        Low      Close     Volume\n",
      "Date                                                             \n",
      "2015-07-01  18.073999  18.174667  17.856667  17.943333   31518000\n",
      "2015-07-02  18.680000  18.830000  18.220667  18.667999  107458500\n",
      "2015-07-06  18.591999  18.779333  18.420000  18.648001   61828500\n",
      "2015-07-07  18.333332  18.346666  17.384666  17.858667   91576500\n",
      "2015-07-08  17.288000  17.386667  16.954000  16.997334   93316500\n",
      "\n",
      "\n",
      "Data for BND:\n",
      "                 Open       High        Low      Close   Volume\n",
      "Date                                                           \n",
      "2015-07-01  60.794202  60.914479  60.764131  60.816753  5399300\n",
      "2015-07-02  60.937016  61.027228  60.937016  60.967087  1060100\n",
      "2015-07-06  61.222676  61.222676  61.057289  61.177567  2210700\n",
      "2015-07-07  61.410626  61.470762  61.237720  61.237720  4183200\n",
      "2015-07-08  61.373032  61.463244  61.312890  61.410622  1967800\n",
      "\n",
      "\n",
      "Data for SPY:\n",
      "                  Open        High         Low       Close     Volume\n",
      "Date                                                                 \n",
      "2015-07-01  175.110979  175.363874  174.124701  174.917099  135979900\n",
      "2015-07-02  175.397642  175.566234  174.335486  174.756973  104373700\n",
      "2015-07-06  173.458790  175.043573  173.256472  174.259613  117975400\n",
      "2015-07-07  174.461903  175.481894  172.059422  175.355453  173820200\n",
      "2015-07-08  174.006657  174.293265  172.177405  172.413437  164020100\n",
      "\n",
      "\n"
     ]
    }
   ],
   "source": [
    "# Load and clean data\n",
    "tickers = [\"TSLA\", \"BND\", \"SPY\"]\n",
    "dfs = load_asset_data(tickers)\n",
    "# Display the first few rows of each DataFrame\n",
    "for ticker, df in dfs.items():\n",
    "    print(f\"Data for {ticker}:\")\n",
    "    print(df.head())\n",
    "    print(\"\\n\")"
   ]
  }
 ],
 "metadata": {
  "kernelspec": {
   "display_name": ".venv",
   "language": "python",
   "name": "python3"
  },
  "language_info": {
   "codemirror_mode": {
    "name": "ipython",
    "version": 3
   },
   "file_extension": ".py",
   "mimetype": "text/x-python",
   "name": "python",
   "nbconvert_exporter": "python",
   "pygments_lexer": "ipython3",
   "version": "3.12.3"
  }
 },
 "nbformat": 4,
 "nbformat_minor": 5
}
