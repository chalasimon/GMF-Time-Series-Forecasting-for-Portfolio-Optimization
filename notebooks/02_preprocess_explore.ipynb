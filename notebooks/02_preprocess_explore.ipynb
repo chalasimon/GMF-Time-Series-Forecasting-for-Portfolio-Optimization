{
 "cells": [
  {
   "cell_type": "markdown",
   "id": "cd4b879e",
   "metadata": {},
   "source": [
    "# Task 1.2: Preprocess and EDA"
   ]
  },
  {
   "cell_type": "code",
   "execution_count": 1,
   "id": "5afd4f40",
   "metadata": {},
   "outputs": [],
   "source": [
    "# Imports and setup\n",
    "import sys\n",
    "sys.path.append(\"../src\")\n",
    "import matplotlib.pyplot as plt\n",
    "import seaborn as sns\n",
    "import pandas as pd\n",
    "from glob import glob"
   ]
  },
  {
   "cell_type": "markdown",
   "id": "d502d494",
   "metadata": {},
   "source": [
    "#### Data Loading"
   ]
  },
  {
   "cell_type": "code",
   "execution_count": 2,
   "id": "808c0018",
   "metadata": {},
   "outputs": [],
   "source": [
    "# import the data fetching function\n",
    "from data_processing import load_asset_data"
   ]
  },
  {
   "cell_type": "code",
   "execution_count": 3,
   "id": "b3b442d8",
   "metadata": {},
   "outputs": [
    {
     "name": "stdout",
     "output_type": "stream",
     "text": [
      "Data for TSLA:\n",
      "                 Open       High        Low      Close     Volume\n",
      "Date                                                             \n",
      "2015-07-01  18.073999  18.174667  17.856667  17.943333   31518000\n",
      "2015-07-02  18.680000  18.830000  18.220667  18.667999  107458500\n",
      "2015-07-06  18.591999  18.779333  18.420000  18.648001   61828500\n",
      "2015-07-07  18.333332  18.346666  17.384666  17.858667   91576500\n",
      "2015-07-08  17.288000  17.386667  16.954000  16.997334   93316500\n",
      "\n",
      "\n",
      "Data for BND:\n",
      "                 Open       High        Low      Close   Volume\n",
      "Date                                                           \n",
      "2015-07-01  60.794202  60.914479  60.764131  60.816753  5399300\n",
      "2015-07-02  60.937016  61.027228  60.937016  60.967087  1060100\n",
      "2015-07-06  61.222676  61.222676  61.057289  61.177567  2210700\n",
      "2015-07-07  61.410626  61.470762  61.237720  61.237720  4183200\n",
      "2015-07-08  61.373032  61.463244  61.312890  61.410622  1967800\n",
      "\n",
      "\n",
      "Data for SPY:\n",
      "                  Open        High         Low       Close     Volume\n",
      "Date                                                                 \n",
      "2015-07-01  175.110979  175.363874  174.124701  174.917099  135979900\n",
      "2015-07-02  175.397642  175.566234  174.335486  174.756973  104373700\n",
      "2015-07-06  173.458790  175.043573  173.256472  174.259613  117975400\n",
      "2015-07-07  174.461903  175.481894  172.059422  175.355453  173820200\n",
      "2015-07-08  174.006657  174.293265  172.177405  172.413437  164020100\n",
      "\n",
      "\n"
     ]
    }
   ],
   "source": [
    "# Load and clean data\n",
    "tickers = [\"TSLA\", \"BND\", \"SPY\"]\n",
    "dfs = load_asset_data(tickers)\n",
    "# Display the first few rows of each DataFrame\n",
    "for ticker, df in dfs.items():\n",
    "    print(f\"Data for {ticker}:\")\n",
    "    print(df.head())\n",
    "    print(\"\\n\")"
   ]
  },
  {
   "cell_type": "markdown",
   "id": "0dfec1f8",
   "metadata": {},
   "source": [
    "#### Data Cleaning"
   ]
  },
  {
   "cell_type": "code",
   "execution_count": 6,
   "id": "a6091c09",
   "metadata": {},
   "outputs": [],
   "source": [
    "from data_processing import clean_data\n",
    "dfs = clean_data(dfs)"
   ]
  },
  {
   "cell_type": "markdown",
   "id": "cb38946c",
   "metadata": {},
   "source": [
    "#### Basic stats & missing data check"
   ]
  },
  {
   "cell_type": "code",
   "execution_count": 9,
   "id": "e2a84355",
   "metadata": {},
   "outputs": [
    {
     "name": "stdout",
     "output_type": "stream",
     "text": [
      "Basic statistics for TSLA:\n"
     ]
    },
    {
     "data": {
      "application/vnd.microsoft.datawrangler.viewer.v0+json": {
       "columns": [
        {
         "name": "index",
         "rawType": "object",
         "type": "string"
        },
        {
         "name": "Open",
         "rawType": "float64",
         "type": "float"
        },
        {
         "name": "High",
         "rawType": "float64",
         "type": "float"
        },
        {
         "name": "Low",
         "rawType": "float64",
         "type": "float"
        },
        {
         "name": "Close",
         "rawType": "float64",
         "type": "float"
        },
        {
         "name": "Volume",
         "rawType": "float64",
         "type": "float"
        }
       ],
       "ref": "c2f04b8f-e693-4931-b7b0-b13f5d759fad",
       "rows": [
        [
         "count",
         "2535.0",
         "2535.0",
         "2535.0",
         "2535.0",
         "2535.0"
        ],
        [
         "mean",
         "132.00059963166126",
         "134.96042882516775",
         "128.8378311454427",
         "131.96300195020567",
         "114178885.20710059"
        ],
        [
         "std",
         "121.03415151251393",
         "123.78373562762198",
         "117.99663109527879",
         "120.91490421925418",
         "73321463.75341561"
        ],
        [
         "min",
         "9.48799991607666",
         "10.33133316040039",
         "9.403332710266112",
         "9.57800006866455",
         "10620000.0"
        ],
        [
         "25%",
         "18.901000022888184",
         "19.279666900634766",
         "18.57533359527588",
         "18.967666625976562",
         "69082200.0"
        ],
        [
         "50%",
         "94.40066528320312",
         "97.66666412353516",
         "91.73400115966795",
         "94.5713348388672",
         "95374500.0"
        ],
        [
         "75%",
         "235.85166931152344",
         "240.88166809082028",
         "232.17000579833984",
         "236.76166534423828",
         "132255100.0"
        ],
        [
         "max",
         "475.8999938964844",
         "488.5400085449219",
         "457.510009765625",
         "479.8599853515625",
         "914082000.0"
        ]
       ],
       "shape": {
        "columns": 5,
        "rows": 8
       }
      },
      "text/html": [
       "<div>\n",
       "<style scoped>\n",
       "    .dataframe tbody tr th:only-of-type {\n",
       "        vertical-align: middle;\n",
       "    }\n",
       "\n",
       "    .dataframe tbody tr th {\n",
       "        vertical-align: top;\n",
       "    }\n",
       "\n",
       "    .dataframe thead th {\n",
       "        text-align: right;\n",
       "    }\n",
       "</style>\n",
       "<table border=\"1\" class=\"dataframe\">\n",
       "  <thead>\n",
       "    <tr style=\"text-align: right;\">\n",
       "      <th></th>\n",
       "      <th>Open</th>\n",
       "      <th>High</th>\n",
       "      <th>Low</th>\n",
       "      <th>Close</th>\n",
       "      <th>Volume</th>\n",
       "    </tr>\n",
       "  </thead>\n",
       "  <tbody>\n",
       "    <tr>\n",
       "      <th>count</th>\n",
       "      <td>2535.000000</td>\n",
       "      <td>2535.000000</td>\n",
       "      <td>2535.000000</td>\n",
       "      <td>2535.000000</td>\n",
       "      <td>2.535000e+03</td>\n",
       "    </tr>\n",
       "    <tr>\n",
       "      <th>mean</th>\n",
       "      <td>132.000600</td>\n",
       "      <td>134.960429</td>\n",
       "      <td>128.837831</td>\n",
       "      <td>131.963002</td>\n",
       "      <td>1.141789e+08</td>\n",
       "    </tr>\n",
       "    <tr>\n",
       "      <th>std</th>\n",
       "      <td>121.034152</td>\n",
       "      <td>123.783736</td>\n",
       "      <td>117.996631</td>\n",
       "      <td>120.914904</td>\n",
       "      <td>7.332146e+07</td>\n",
       "    </tr>\n",
       "    <tr>\n",
       "      <th>min</th>\n",
       "      <td>9.488000</td>\n",
       "      <td>10.331333</td>\n",
       "      <td>9.403333</td>\n",
       "      <td>9.578000</td>\n",
       "      <td>1.062000e+07</td>\n",
       "    </tr>\n",
       "    <tr>\n",
       "      <th>25%</th>\n",
       "      <td>18.901000</td>\n",
       "      <td>19.279667</td>\n",
       "      <td>18.575334</td>\n",
       "      <td>18.967667</td>\n",
       "      <td>6.908220e+07</td>\n",
       "    </tr>\n",
       "    <tr>\n",
       "      <th>50%</th>\n",
       "      <td>94.400665</td>\n",
       "      <td>97.666664</td>\n",
       "      <td>91.734001</td>\n",
       "      <td>94.571335</td>\n",
       "      <td>9.537450e+07</td>\n",
       "    </tr>\n",
       "    <tr>\n",
       "      <th>75%</th>\n",
       "      <td>235.851669</td>\n",
       "      <td>240.881668</td>\n",
       "      <td>232.170006</td>\n",
       "      <td>236.761665</td>\n",
       "      <td>1.322551e+08</td>\n",
       "    </tr>\n",
       "    <tr>\n",
       "      <th>max</th>\n",
       "      <td>475.899994</td>\n",
       "      <td>488.540009</td>\n",
       "      <td>457.510010</td>\n",
       "      <td>479.859985</td>\n",
       "      <td>9.140820e+08</td>\n",
       "    </tr>\n",
       "  </tbody>\n",
       "</table>\n",
       "</div>"
      ],
      "text/plain": [
       "              Open         High          Low        Close        Volume\n",
       "count  2535.000000  2535.000000  2535.000000  2535.000000  2.535000e+03\n",
       "mean    132.000600   134.960429   128.837831   131.963002  1.141789e+08\n",
       "std     121.034152   123.783736   117.996631   120.914904  7.332146e+07\n",
       "min       9.488000    10.331333     9.403333     9.578000  1.062000e+07\n",
       "25%      18.901000    19.279667    18.575334    18.967667  6.908220e+07\n",
       "50%      94.400665    97.666664    91.734001    94.571335  9.537450e+07\n",
       "75%     235.851669   240.881668   232.170006   236.761665  1.322551e+08\n",
       "max     475.899994   488.540009   457.510010   479.859985  9.140820e+08"
      ]
     },
     "metadata": {},
     "output_type": "display_data"
    },
    {
     "data": {
      "text/plain": [
       "'Missing values:\\n'"
      ]
     },
     "metadata": {},
     "output_type": "display_data"
    },
    {
     "data": {
      "application/vnd.microsoft.datawrangler.viewer.v0+json": {
       "columns": [
        {
         "name": "index",
         "rawType": "object",
         "type": "string"
        },
        {
         "name": "0",
         "rawType": "int64",
         "type": "integer"
        }
       ],
       "ref": "981d4bec-2862-4ca6-af10-60bb6a56ae3a",
       "rows": [
        [
         "Open",
         "0"
        ],
        [
         "High",
         "0"
        ],
        [
         "Low",
         "0"
        ],
        [
         "Close",
         "0"
        ],
        [
         "Volume",
         "0"
        ]
       ],
       "shape": {
        "columns": 1,
        "rows": 5
       }
      },
      "text/plain": [
       "Open      0\n",
       "High      0\n",
       "Low       0\n",
       "Close     0\n",
       "Volume    0\n",
       "dtype: int64"
      ]
     },
     "metadata": {},
     "output_type": "display_data"
    },
    {
     "data": {
      "text/plain": [
       "'\\n'"
      ]
     },
     "metadata": {},
     "output_type": "display_data"
    },
    {
     "name": "stdout",
     "output_type": "stream",
     "text": [
      "Basic statistics for BND:\n"
     ]
    },
    {
     "data": {
      "application/vnd.microsoft.datawrangler.viewer.v0+json": {
       "columns": [
        {
         "name": "index",
         "rawType": "object",
         "type": "string"
        },
        {
         "name": "Open",
         "rawType": "float64",
         "type": "float"
        },
        {
         "name": "High",
         "rawType": "float64",
         "type": "float"
        },
        {
         "name": "Low",
         "rawType": "float64",
         "type": "float"
        },
        {
         "name": "Close",
         "rawType": "float64",
         "type": "float"
        },
        {
         "name": "Volume",
         "rawType": "float64",
         "type": "float"
        }
       ],
       "ref": "3d9ac3b2-dbe0-4147-99b5-cd3762a3fb6b",
       "rows": [
        [
         "count",
         "2535.0",
         "2535.0",
         "2535.0",
         "2535.0",
         "2535.0"
        ],
        [
         "mean",
         "68.47139162610225",
         "68.57117403167759",
         "68.3649195468507",
         "68.4691884238339",
         "4434375.818540434"
        ],
        [
         "std",
         "4.555994623288152",
         "4.563590604732894",
         "4.544724447252524",
         "4.55460220261976",
         "2899511.02828465"
        ],
        [
         "min",
         "60.78669774908174",
         "60.89946175287442",
         "60.76413096350772",
         "60.779178619384766",
         "0.0"
        ],
        [
         "25%",
         "64.66059021286969",
         "64.73124954259214",
         "64.5706558378981",
         "64.65436553955078",
         "2182050.0"
        ],
        [
         "50%",
         "67.58906563725508",
         "67.74935311294682",
         "67.4740651020895",
         "67.60488891601562",
         "4121100.0"
        ],
        [
         "75%",
         "71.88623495558693",
         "72.01894660232253",
         "71.7807036695562",
         "71.8911361694336",
         "5890100.0"
        ],
        [
         "max",
         "77.37874136264139",
         "77.41329892867658",
         "77.28367315445148",
         "77.3182373046875",
         "33963000.0"
        ]
       ],
       "shape": {
        "columns": 5,
        "rows": 8
       }
      },
      "text/html": [
       "<div>\n",
       "<style scoped>\n",
       "    .dataframe tbody tr th:only-of-type {\n",
       "        vertical-align: middle;\n",
       "    }\n",
       "\n",
       "    .dataframe tbody tr th {\n",
       "        vertical-align: top;\n",
       "    }\n",
       "\n",
       "    .dataframe thead th {\n",
       "        text-align: right;\n",
       "    }\n",
       "</style>\n",
       "<table border=\"1\" class=\"dataframe\">\n",
       "  <thead>\n",
       "    <tr style=\"text-align: right;\">\n",
       "      <th></th>\n",
       "      <th>Open</th>\n",
       "      <th>High</th>\n",
       "      <th>Low</th>\n",
       "      <th>Close</th>\n",
       "      <th>Volume</th>\n",
       "    </tr>\n",
       "  </thead>\n",
       "  <tbody>\n",
       "    <tr>\n",
       "      <th>count</th>\n",
       "      <td>2535.000000</td>\n",
       "      <td>2535.000000</td>\n",
       "      <td>2535.000000</td>\n",
       "      <td>2535.000000</td>\n",
       "      <td>2.535000e+03</td>\n",
       "    </tr>\n",
       "    <tr>\n",
       "      <th>mean</th>\n",
       "      <td>68.471392</td>\n",
       "      <td>68.571174</td>\n",
       "      <td>68.364920</td>\n",
       "      <td>68.469188</td>\n",
       "      <td>4.434376e+06</td>\n",
       "    </tr>\n",
       "    <tr>\n",
       "      <th>std</th>\n",
       "      <td>4.555995</td>\n",
       "      <td>4.563591</td>\n",
       "      <td>4.544724</td>\n",
       "      <td>4.554602</td>\n",
       "      <td>2.899511e+06</td>\n",
       "    </tr>\n",
       "    <tr>\n",
       "      <th>min</th>\n",
       "      <td>60.786698</td>\n",
       "      <td>60.899462</td>\n",
       "      <td>60.764131</td>\n",
       "      <td>60.779179</td>\n",
       "      <td>0.000000e+00</td>\n",
       "    </tr>\n",
       "    <tr>\n",
       "      <th>25%</th>\n",
       "      <td>64.660590</td>\n",
       "      <td>64.731250</td>\n",
       "      <td>64.570656</td>\n",
       "      <td>64.654366</td>\n",
       "      <td>2.182050e+06</td>\n",
       "    </tr>\n",
       "    <tr>\n",
       "      <th>50%</th>\n",
       "      <td>67.589066</td>\n",
       "      <td>67.749353</td>\n",
       "      <td>67.474065</td>\n",
       "      <td>67.604889</td>\n",
       "      <td>4.121100e+06</td>\n",
       "    </tr>\n",
       "    <tr>\n",
       "      <th>75%</th>\n",
       "      <td>71.886235</td>\n",
       "      <td>72.018947</td>\n",
       "      <td>71.780704</td>\n",
       "      <td>71.891136</td>\n",
       "      <td>5.890100e+06</td>\n",
       "    </tr>\n",
       "    <tr>\n",
       "      <th>max</th>\n",
       "      <td>77.378741</td>\n",
       "      <td>77.413299</td>\n",
       "      <td>77.283673</td>\n",
       "      <td>77.318237</td>\n",
       "      <td>3.396300e+07</td>\n",
       "    </tr>\n",
       "  </tbody>\n",
       "</table>\n",
       "</div>"
      ],
      "text/plain": [
       "              Open         High          Low        Close        Volume\n",
       "count  2535.000000  2535.000000  2535.000000  2535.000000  2.535000e+03\n",
       "mean     68.471392    68.571174    68.364920    68.469188  4.434376e+06\n",
       "std       4.555995     4.563591     4.544724     4.554602  2.899511e+06\n",
       "min      60.786698    60.899462    60.764131    60.779179  0.000000e+00\n",
       "25%      64.660590    64.731250    64.570656    64.654366  2.182050e+06\n",
       "50%      67.589066    67.749353    67.474065    67.604889  4.121100e+06\n",
       "75%      71.886235    72.018947    71.780704    71.891136  5.890100e+06\n",
       "max      77.378741    77.413299    77.283673    77.318237  3.396300e+07"
      ]
     },
     "metadata": {},
     "output_type": "display_data"
    },
    {
     "data": {
      "text/plain": [
       "'Missing values:\\n'"
      ]
     },
     "metadata": {},
     "output_type": "display_data"
    },
    {
     "data": {
      "application/vnd.microsoft.datawrangler.viewer.v0+json": {
       "columns": [
        {
         "name": "index",
         "rawType": "object",
         "type": "string"
        },
        {
         "name": "0",
         "rawType": "int64",
         "type": "integer"
        }
       ],
       "ref": "6c82051d-6773-40f6-9469-8e90ff303bad",
       "rows": [
        [
         "Open",
         "0"
        ],
        [
         "High",
         "0"
        ],
        [
         "Low",
         "0"
        ],
        [
         "Close",
         "0"
        ],
        [
         "Volume",
         "0"
        ]
       ],
       "shape": {
        "columns": 1,
        "rows": 5
       }
      },
      "text/plain": [
       "Open      0\n",
       "High      0\n",
       "Low       0\n",
       "Close     0\n",
       "Volume    0\n",
       "dtype: int64"
      ]
     },
     "metadata": {},
     "output_type": "display_data"
    },
    {
     "data": {
      "text/plain": [
       "'\\n'"
      ]
     },
     "metadata": {},
     "output_type": "display_data"
    },
    {
     "name": "stdout",
     "output_type": "stream",
     "text": [
      "Basic statistics for SPY:\n"
     ]
    },
    {
     "data": {
      "application/vnd.microsoft.datawrangler.viewer.v0+json": {
       "columns": [
        {
         "name": "index",
         "rawType": "object",
         "type": "string"
        },
        {
         "name": "Open",
         "rawType": "float64",
         "type": "float"
        },
        {
         "name": "High",
         "rawType": "float64",
         "type": "float"
        },
        {
         "name": "Low",
         "rawType": "float64",
         "type": "float"
        },
        {
         "name": "Close",
         "rawType": "float64",
         "type": "float"
        },
        {
         "name": "Volume",
         "rawType": "float64",
         "type": "float"
        }
       ],
       "ref": "13fc3e5d-228c-42f1-b06b-40fe55570d98",
       "rows": [
        [
         "count",
         "2535.0",
         "2535.0",
         "2535.0",
         "2535.0",
         "2535.0"
        ],
        [
         "mean",
         "334.12553780426174",
         "335.98161818090983",
         "332.1146354267193",
         "334.1937324659359",
         "85035205.24654832"
        ],
        [
         "std",
         "126.3911383549256",
         "127.05308937968759",
         "125.66128695766103",
         "126.42770426020274",
         "44287961.94295136"
        ],
        [
         "min",
         "155.42656051919312",
         "156.9267923380222",
         "153.75842601625803",
         "155.86981201171875",
         "20270000.0"
        ],
        [
         "25%",
         "231.0078551330818",
         "234.024924169011",
         "228.66175608118462",
         "230.08321380615234",
         "57791500.0"
        ],
        [
         "50%",
         "304.7150122513864",
         "306.14350351863925",
         "302.0330998305538",
         "305.26446533203125",
         "74515300.0"
        ],
        [
         "75%",
         "420.11749664116735",
         "423.1148815916565",
         "417.75448632726665",
         "420.3505401611328",
         "97891800.0"
        ],
        [
         "max",
         "638.3499755859375",
         "638.6699829101562",
         "635.5399780273438",
         "637.0999755859375",
         "507244300.0"
        ]
       ],
       "shape": {
        "columns": 5,
        "rows": 8
       }
      },
      "text/html": [
       "<div>\n",
       "<style scoped>\n",
       "    .dataframe tbody tr th:only-of-type {\n",
       "        vertical-align: middle;\n",
       "    }\n",
       "\n",
       "    .dataframe tbody tr th {\n",
       "        vertical-align: top;\n",
       "    }\n",
       "\n",
       "    .dataframe thead th {\n",
       "        text-align: right;\n",
       "    }\n",
       "</style>\n",
       "<table border=\"1\" class=\"dataframe\">\n",
       "  <thead>\n",
       "    <tr style=\"text-align: right;\">\n",
       "      <th></th>\n",
       "      <th>Open</th>\n",
       "      <th>High</th>\n",
       "      <th>Low</th>\n",
       "      <th>Close</th>\n",
       "      <th>Volume</th>\n",
       "    </tr>\n",
       "  </thead>\n",
       "  <tbody>\n",
       "    <tr>\n",
       "      <th>count</th>\n",
       "      <td>2535.000000</td>\n",
       "      <td>2535.000000</td>\n",
       "      <td>2535.000000</td>\n",
       "      <td>2535.000000</td>\n",
       "      <td>2.535000e+03</td>\n",
       "    </tr>\n",
       "    <tr>\n",
       "      <th>mean</th>\n",
       "      <td>334.125538</td>\n",
       "      <td>335.981618</td>\n",
       "      <td>332.114635</td>\n",
       "      <td>334.193732</td>\n",
       "      <td>8.503521e+07</td>\n",
       "    </tr>\n",
       "    <tr>\n",
       "      <th>std</th>\n",
       "      <td>126.391138</td>\n",
       "      <td>127.053089</td>\n",
       "      <td>125.661287</td>\n",
       "      <td>126.427704</td>\n",
       "      <td>4.428796e+07</td>\n",
       "    </tr>\n",
       "    <tr>\n",
       "      <th>min</th>\n",
       "      <td>155.426561</td>\n",
       "      <td>156.926792</td>\n",
       "      <td>153.758426</td>\n",
       "      <td>155.869812</td>\n",
       "      <td>2.027000e+07</td>\n",
       "    </tr>\n",
       "    <tr>\n",
       "      <th>25%</th>\n",
       "      <td>231.007855</td>\n",
       "      <td>234.024924</td>\n",
       "      <td>228.661756</td>\n",
       "      <td>230.083214</td>\n",
       "      <td>5.779150e+07</td>\n",
       "    </tr>\n",
       "    <tr>\n",
       "      <th>50%</th>\n",
       "      <td>304.715012</td>\n",
       "      <td>306.143504</td>\n",
       "      <td>302.033100</td>\n",
       "      <td>305.264465</td>\n",
       "      <td>7.451530e+07</td>\n",
       "    </tr>\n",
       "    <tr>\n",
       "      <th>75%</th>\n",
       "      <td>420.117497</td>\n",
       "      <td>423.114882</td>\n",
       "      <td>417.754486</td>\n",
       "      <td>420.350540</td>\n",
       "      <td>9.789180e+07</td>\n",
       "    </tr>\n",
       "    <tr>\n",
       "      <th>max</th>\n",
       "      <td>638.349976</td>\n",
       "      <td>638.669983</td>\n",
       "      <td>635.539978</td>\n",
       "      <td>637.099976</td>\n",
       "      <td>5.072443e+08</td>\n",
       "    </tr>\n",
       "  </tbody>\n",
       "</table>\n",
       "</div>"
      ],
      "text/plain": [
       "              Open         High          Low        Close        Volume\n",
       "count  2535.000000  2535.000000  2535.000000  2535.000000  2.535000e+03\n",
       "mean    334.125538   335.981618   332.114635   334.193732  8.503521e+07\n",
       "std     126.391138   127.053089   125.661287   126.427704  4.428796e+07\n",
       "min     155.426561   156.926792   153.758426   155.869812  2.027000e+07\n",
       "25%     231.007855   234.024924   228.661756   230.083214  5.779150e+07\n",
       "50%     304.715012   306.143504   302.033100   305.264465  7.451530e+07\n",
       "75%     420.117497   423.114882   417.754486   420.350540  9.789180e+07\n",
       "max     638.349976   638.669983   635.539978   637.099976  5.072443e+08"
      ]
     },
     "metadata": {},
     "output_type": "display_data"
    },
    {
     "data": {
      "text/plain": [
       "'Missing values:\\n'"
      ]
     },
     "metadata": {},
     "output_type": "display_data"
    },
    {
     "data": {
      "application/vnd.microsoft.datawrangler.viewer.v0+json": {
       "columns": [
        {
         "name": "index",
         "rawType": "object",
         "type": "string"
        },
        {
         "name": "0",
         "rawType": "int64",
         "type": "integer"
        }
       ],
       "ref": "f203b6cb-de2d-4d37-a416-13575f109dd4",
       "rows": [
        [
         "Open",
         "0"
        ],
        [
         "High",
         "0"
        ],
        [
         "Low",
         "0"
        ],
        [
         "Close",
         "0"
        ],
        [
         "Volume",
         "0"
        ]
       ],
       "shape": {
        "columns": 1,
        "rows": 5
       }
      },
      "text/plain": [
       "Open      0\n",
       "High      0\n",
       "Low       0\n",
       "Close     0\n",
       "Volume    0\n",
       "dtype: int64"
      ]
     },
     "metadata": {},
     "output_type": "display_data"
    },
    {
     "data": {
      "text/plain": [
       "'\\n'"
      ]
     },
     "metadata": {},
     "output_type": "display_data"
    }
   ],
   "source": [
    "for t in tickers:\n",
    "    print(f\"Basic statistics for {t}:\")\n",
    "    display(dfs[t].describe())\n",
    "    display(\"Missing values:\\n\", dfs[t].isna().sum(), \"\\n\")"
   ]
  }
 ],
 "metadata": {
  "kernelspec": {
   "display_name": ".venv",
   "language": "python",
   "name": "python3"
  },
  "language_info": {
   "codemirror_mode": {
    "name": "ipython",
    "version": 3
   },
   "file_extension": ".py",
   "mimetype": "text/x-python",
   "name": "python",
   "nbconvert_exporter": "python",
   "pygments_lexer": "ipython3",
   "version": "3.12.3"
  }
 },
 "nbformat": 4,
 "nbformat_minor": 5
}
