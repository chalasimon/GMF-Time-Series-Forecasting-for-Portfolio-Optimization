{
 "cells": [
  {
   "cell_type": "markdown",
   "id": "80d5e1b5",
   "metadata": {},
   "source": [
    "# Task 3:  Forecast Future Market Trends"
   ]
  },
  {
   "cell_type": "code",
   "execution_count": 2,
   "id": "7ac3b10f",
   "metadata": {},
   "outputs": [
    {
     "name": "stderr",
     "output_type": "stream",
     "text": [
      "2025-08-14 16:10:52.613801: I external/local_xla/xla/tsl/cuda/cudart_stub.cc:32] Could not find cuda drivers on your machine, GPU will not be used.\n",
      "2025-08-14 16:10:52.618242: I external/local_xla/xla/tsl/cuda/cudart_stub.cc:32] Could not find cuda drivers on your machine, GPU will not be used.\n",
      "2025-08-14 16:10:52.631538: E external/local_xla/xla/stream_executor/cuda/cuda_fft.cc:467] Unable to register cuFFT factory: Attempting to register factory for plugin cuFFT when one has already been registered\n",
      "WARNING: All log messages before absl::InitializeLog() is called are written to STDERR\n",
      "E0000 00:00:1755177052.653676   21871 cuda_dnn.cc:8579] Unable to register cuDNN factory: Attempting to register factory for plugin cuDNN when one has already been registered\n",
      "E0000 00:00:1755177052.659458   21871 cuda_blas.cc:1407] Unable to register cuBLAS factory: Attempting to register factory for plugin cuBLAS when one has already been registered\n",
      "W0000 00:00:1755177052.675227   21871 computation_placer.cc:177] computation placer already registered. Please check linkage and avoid linking the same target more than once.\n",
      "W0000 00:00:1755177052.675248   21871 computation_placer.cc:177] computation placer already registered. Please check linkage and avoid linking the same target more than once.\n",
      "W0000 00:00:1755177052.675250   21871 computation_placer.cc:177] computation placer already registered. Please check linkage and avoid linking the same target more than once.\n",
      "W0000 00:00:1755177052.675252   21871 computation_placer.cc:177] computation placer already registered. Please check linkage and avoid linking the same target more than once.\n",
      "2025-08-14 16:10:52.681101: I tensorflow/core/platform/cpu_feature_guard.cc:210] This TensorFlow binary is optimized to use available CPU instructions in performance-critical operations.\n",
      "To enable the following instructions: AVX2 FMA, in other operations, rebuild TensorFlow with the appropriate compiler flags.\n"
     ]
    },
    {
     "data": {
      "text/plain": [
       "<module 'task3_forecasting' from '/home/chalasimon/Documents/10academy/week 11/challenges/GMF-Time-Series-Forecasting-for-Portfolio-Optimization/notebooks/../src/task3_forecasting.py'>"
      ]
     },
     "execution_count": 2,
     "metadata": {},
     "output_type": "execute_result"
    }
   ],
   "source": [
    "# import libraries and and configurations\n",
    "import sys, os\n",
    "sys.path.append(\"../src\")\n",
    "\n",
    "import pandas as pd\n",
    "import matplotlib.pyplot as plt\n",
    "import importlib\n",
    "import task3_forecasting\n",
    "importlib.reload(task3_forecasting)"
   ]
  },
  {
   "cell_type": "markdown",
   "id": "8fb3968e",
   "metadata": {},
   "source": [
    "#### Import Data"
   ]
  },
  {
   "cell_type": "code",
   "execution_count": 3,
   "id": "2138a5a0",
   "metadata": {},
   "outputs": [],
   "source": [
    "import pandas as pd\n",
    "from task3_forecasting import (\n",
    "    load_arima, forecast_future_arima, plot_future_forecast_arima,\n",
    "    load_lstm_and_scaler, forecast_future_lstm, plot_future_forecast_lstm\n",
    ")\n",
    "\n",
    "# Load your historical TSLA prices (same as Task 2)\n",
    "tsla = pd.read_csv(\"../data/TSLA.csv\", parse_dates=[\"Date\"], index_col=\"Date\")[\"Close\"].dropna().sort_index()\n",
    "\n",
    "# Choose forecast horizon: ~6 months ≈ 126 business days, 12 months ≈ 252\n",
    "STEPS_6M = 126\n",
    "STEPS_12M = 252\n"
   ]
  }
 ],
 "metadata": {
  "kernelspec": {
   "display_name": ".venv",
   "language": "python",
   "name": "python3"
  },
  "language_info": {
   "codemirror_mode": {
    "name": "ipython",
    "version": 3
   },
   "file_extension": ".py",
   "mimetype": "text/x-python",
   "name": "python",
   "nbconvert_exporter": "python",
   "pygments_lexer": "ipython3",
   "version": "3.12.3"
  }
 },
 "nbformat": 4,
 "nbformat_minor": 5
}
