{
 "cells": [
  {
   "cell_type": "markdown",
   "id": "4e1b0f67",
   "metadata": {},
   "source": [
    "#  Task 5 - Backtesting"
   ]
  },
  {
   "cell_type": "markdown",
   "id": "0cd1fc1f",
   "metadata": {},
   "source": [
    "#### import libraries"
   ]
  },
  {
   "cell_type": "code",
   "execution_count": 1,
   "id": "c08e0f42",
   "metadata": {},
   "outputs": [],
   "source": [
    "# --- Imports & Paths ---\n",
    "import os\n",
    "import pandas as pd\n",
    "import numpy as np\n",
    "import matplotlib.pyplot as plt\n",
    "\n",
    "# Local modules\n",
    "import sys\n",
    "sys.path.append(\"../src\")"
   ]
  },
  {
   "cell_type": "code",
   "execution_count": 4,
   "id": "af6fbec1",
   "metadata": {},
   "outputs": [],
   "source": [
    "from portfolio_opt import optimize_portfolio, plot_efficient_frontier"
   ]
  },
  {
   "cell_type": "markdown",
   "id": "28eaee91",
   "metadata": {},
   "source": [
    "#### Load Data"
   ]
  },
  {
   "cell_type": "code",
   "execution_count": 6,
   "id": "25cc9a7b",
   "metadata": {},
   "outputs": [],
   "source": [
    "tsla_prices = pd.read_csv(\"../data/TSLA.csv\", parse_dates=[\"Date\"]).set_index(\"Date\")[\"Close\"]\n",
    "bnd_prices  = pd.read_csv(\"../data/BND.csv\",  parse_dates=[\"Date\"]).set_index(\"Date\")[\"Close\"]\n",
    "spy_prices  = pd.read_csv(\"../data/SPY.csv\",  parse_dates=[\"Date\"]).set_index(\"Date\")[\"Close\"]\n",
    "\n",
    "prices = pd.concat([tsla_prices.rename(\"TSLA\"),\n",
    "                    bnd_prices.rename(\"BND\"),\n",
    "                    spy_prices.rename(\"SPY\")], axis=1).dropna()\n"
   ]
  },
  {
   "cell_type": "code",
   "execution_count": 7,
   "id": "97dad5cf",
   "metadata": {},
   "outputs": [
    {
     "data": {
      "application/vnd.microsoft.datawrangler.viewer.v0+json": {
       "columns": [
        {
         "name": "Date",
         "rawType": "datetime64[ns]",
         "type": "datetime"
        },
        {
         "name": "TSLA",
         "rawType": "float64",
         "type": "float"
        },
        {
         "name": "BND",
         "rawType": "float64",
         "type": "float"
        },
        {
         "name": "SPY",
         "rawType": "float64",
         "type": "float"
        }
       ],
       "ref": "a552d4d4-a499-4d97-b716-3eebb3d2797d",
       "rows": [
        [
         "2015-07-01 00:00:00",
         "17.94333267211914",
         "60.81675338745117",
         "174.91709899902344"
        ],
        [
         "2015-07-02 00:00:00",
         "18.667999267578125",
         "60.96708679199219",
         "174.75697326660156"
        ],
        [
         "2015-07-06 00:00:00",
         "18.64800071716309",
         "61.17756652832031",
         "174.25961303710938"
        ],
        [
         "2015-07-07 00:00:00",
         "17.858667373657227",
         "61.23772048950195",
         "175.35545349121094"
        ],
        [
         "2015-07-08 00:00:00",
         "16.997333526611328",
         "61.410621643066406",
         "172.41343688964844"
        ]
       ],
       "shape": {
        "columns": 3,
        "rows": 5
       }
      },
      "text/html": [
       "<div>\n",
       "<style scoped>\n",
       "    .dataframe tbody tr th:only-of-type {\n",
       "        vertical-align: middle;\n",
       "    }\n",
       "\n",
       "    .dataframe tbody tr th {\n",
       "        vertical-align: top;\n",
       "    }\n",
       "\n",
       "    .dataframe thead th {\n",
       "        text-align: right;\n",
       "    }\n",
       "</style>\n",
       "<table border=\"1\" class=\"dataframe\">\n",
       "  <thead>\n",
       "    <tr style=\"text-align: right;\">\n",
       "      <th></th>\n",
       "      <th>TSLA</th>\n",
       "      <th>BND</th>\n",
       "      <th>SPY</th>\n",
       "    </tr>\n",
       "    <tr>\n",
       "      <th>Date</th>\n",
       "      <th></th>\n",
       "      <th></th>\n",
       "      <th></th>\n",
       "    </tr>\n",
       "  </thead>\n",
       "  <tbody>\n",
       "    <tr>\n",
       "      <th>2015-07-01</th>\n",
       "      <td>17.943333</td>\n",
       "      <td>60.816753</td>\n",
       "      <td>174.917099</td>\n",
       "    </tr>\n",
       "    <tr>\n",
       "      <th>2015-07-02</th>\n",
       "      <td>18.667999</td>\n",
       "      <td>60.967087</td>\n",
       "      <td>174.756973</td>\n",
       "    </tr>\n",
       "    <tr>\n",
       "      <th>2015-07-06</th>\n",
       "      <td>18.648001</td>\n",
       "      <td>61.177567</td>\n",
       "      <td>174.259613</td>\n",
       "    </tr>\n",
       "    <tr>\n",
       "      <th>2015-07-07</th>\n",
       "      <td>17.858667</td>\n",
       "      <td>61.237720</td>\n",
       "      <td>175.355453</td>\n",
       "    </tr>\n",
       "    <tr>\n",
       "      <th>2015-07-08</th>\n",
       "      <td>16.997334</td>\n",
       "      <td>61.410622</td>\n",
       "      <td>172.413437</td>\n",
       "    </tr>\n",
       "  </tbody>\n",
       "</table>\n",
       "</div>"
      ],
      "text/plain": [
       "                 TSLA        BND         SPY\n",
       "Date                                        \n",
       "2015-07-01  17.943333  60.816753  174.917099\n",
       "2015-07-02  18.667999  60.967087  174.756973\n",
       "2015-07-06  18.648001  61.177567  174.259613\n",
       "2015-07-07  17.858667  61.237720  175.355453\n",
       "2015-07-08  16.997334  61.410622  172.413437"
      ]
     },
     "execution_count": 7,
     "metadata": {},
     "output_type": "execute_result"
    }
   ],
   "source": [
    "prices.head()"
   ]
  }
 ],
 "metadata": {
  "kernelspec": {
   "display_name": ".venv",
   "language": "python",
   "name": "python3"
  },
  "language_info": {
   "codemirror_mode": {
    "name": "ipython",
    "version": 3
   },
   "file_extension": ".py",
   "mimetype": "text/x-python",
   "name": "python",
   "nbconvert_exporter": "python",
   "pygments_lexer": "ipython3",
   "version": "3.12.3"
  }
 },
 "nbformat": 4,
 "nbformat_minor": 5
}
