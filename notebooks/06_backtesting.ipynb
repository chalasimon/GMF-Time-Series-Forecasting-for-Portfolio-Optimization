{
 "cells": [
  {
   "cell_type": "markdown",
   "id": "4e1b0f67",
   "metadata": {},
   "source": [
    "#  Task 5 - Backtesting"
   ]
  },
  {
   "cell_type": "markdown",
   "id": "0cd1fc1f",
   "metadata": {},
   "source": [
    "#### import libraries"
   ]
  },
  {
   "cell_type": "code",
   "execution_count": 1,
   "id": "c08e0f42",
   "metadata": {},
   "outputs": [],
   "source": [
    "# --- Imports & Paths ---\n",
    "import os\n",
    "import pandas as pd\n",
    "import numpy as np\n",
    "import matplotlib.pyplot as plt\n",
    "\n",
    "# Local modules\n",
    "import sys\n",
    "sys.path.append(\"../src\")"
   ]
  },
  {
   "cell_type": "code",
   "execution_count": 4,
   "id": "af6fbec1",
   "metadata": {},
   "outputs": [],
   "source": [
    "from portfolio_opt import optimize_portfolio, plot_efficient_frontier"
   ]
  }
 ],
 "metadata": {
  "kernelspec": {
   "display_name": ".venv",
   "language": "python",
   "name": "python3"
  },
  "language_info": {
   "codemirror_mode": {
    "name": "ipython",
    "version": 3
   },
   "file_extension": ".py",
   "mimetype": "text/x-python",
   "name": "python",
   "nbconvert_exporter": "python",
   "pygments_lexer": "ipython3",
   "version": "3.12.3"
  }
 },
 "nbformat": 4,
 "nbformat_minor": 5
}
