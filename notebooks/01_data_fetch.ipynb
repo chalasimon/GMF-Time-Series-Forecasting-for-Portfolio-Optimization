{
 "cells": [
  {
   "cell_type": "markdown",
   "id": "0114fbeb",
   "metadata": {},
   "source": [
    "# Task 1.1 - Fetch and Save Data\n",
    "This script fetches historical data for selected financial assets and saves them as CSV files."
   ]
  },
  {
   "cell_type": "code",
   "execution_count": 1,
   "id": "73cc0e9e",
   "metadata": {},
   "outputs": [],
   "source": [
    "# Imports\n",
    "import sys\n",
    "sys.path.append(\"../src\")  # so Python can find src/ modules\n",
    "from data_fetch import fetch_asset_data"
   ]
  },
  {
   "cell_type": "code",
   "execution_count": 2,
   "id": "574606ea",
   "metadata": {},
   "outputs": [],
   "source": [
    "# setting up parameters\n",
    "ASSETS = [\"TSLA\", \"BND\", \"SPY\"]\n",
    "START = \"2015-07-01\"\n",
    "END = \"2025-07-31\""
   ]
  },
  {
   "cell_type": "code",
   "execution_count": 3,
   "id": "01bd04c3",
   "metadata": {},
   "outputs": [
    {
     "name": "stdout",
     "output_type": "stream",
     "text": [
      "Fetching data for TSLA...\n"
     ]
    },
    {
     "name": "stderr",
     "output_type": "stream",
     "text": [
      "/home/chalasimon/Documents/10academy/week 11/challenges/GMF-Time-Series-Forecasting-for-Portfolio-Optimization/notebooks/../src/data_fetch.py:17: FutureWarning: YF.download() has changed argument auto_adjust default to True\n",
      "  df = yf.download(ticker, start=start, end=end, progress=False)\n"
     ]
    },
    {
     "name": "stdout",
     "output_type": "stream",
     "text": [
      " Saved TSLA data to ../data/TSLA.csv\n"
     ]
    },
    {
     "data": {
      "application/vnd.microsoft.datawrangler.viewer.v0+json": {
       "columns": [
        {
         "name": "Date",
         "rawType": "datetime64[ns]",
         "type": "datetime"
        },
        {
         "name": "Open",
         "rawType": "float64",
         "type": "float"
        },
        {
         "name": "High",
         "rawType": "float64",
         "type": "float"
        },
        {
         "name": "Low",
         "rawType": "float64",
         "type": "float"
        },
        {
         "name": "Close",
         "rawType": "float64",
         "type": "float"
        },
        {
         "name": "Volume",
         "rawType": "int64",
         "type": "integer"
        }
       ],
       "ref": "ef1f698a-8168-41d3-9237-50142223cd9e",
       "rows": [
        [
         "2015-07-01 00:00:00",
         "18.073999404907227",
         "18.174667358398438",
         "17.856666564941406",
         "17.94333267211914",
         "31518000"
        ],
        [
         "2015-07-02 00:00:00",
         "18.68000030517578",
         "18.829999923706055",
         "18.220666885375977",
         "18.667999267578125",
         "107458500"
        ],
        [
         "2015-07-06 00:00:00",
         "18.591999053955078",
         "18.779333114624023",
         "18.420000076293945",
         "18.648000717163086",
         "61828500"
        ],
        [
         "2015-07-07 00:00:00",
         "18.333332061767578",
         "18.34666633605957",
         "17.384666442871094",
         "17.858667373657227",
         "91576500"
        ],
        [
         "2015-07-08 00:00:00",
         "17.288000106811523",
         "17.386667251586914",
         "16.95400047302246",
         "16.997333526611328",
         "93316500"
        ]
       ],
       "shape": {
        "columns": 5,
        "rows": 5
       }
      },
      "text/html": [
       "<div>\n",
       "<style scoped>\n",
       "    .dataframe tbody tr th:only-of-type {\n",
       "        vertical-align: middle;\n",
       "    }\n",
       "\n",
       "    .dataframe tbody tr th {\n",
       "        vertical-align: top;\n",
       "    }\n",
       "\n",
       "    .dataframe thead th {\n",
       "        text-align: right;\n",
       "    }\n",
       "</style>\n",
       "<table border=\"1\" class=\"dataframe\">\n",
       "  <thead>\n",
       "    <tr style=\"text-align: right;\">\n",
       "      <th></th>\n",
       "      <th>Open</th>\n",
       "      <th>High</th>\n",
       "      <th>Low</th>\n",
       "      <th>Close</th>\n",
       "      <th>Volume</th>\n",
       "    </tr>\n",
       "    <tr>\n",
       "      <th>Date</th>\n",
       "      <th></th>\n",
       "      <th></th>\n",
       "      <th></th>\n",
       "      <th></th>\n",
       "      <th></th>\n",
       "    </tr>\n",
       "  </thead>\n",
       "  <tbody>\n",
       "    <tr>\n",
       "      <th>2015-07-01</th>\n",
       "      <td>18.073999</td>\n",
       "      <td>18.174667</td>\n",
       "      <td>17.856667</td>\n",
       "      <td>17.943333</td>\n",
       "      <td>31518000</td>\n",
       "    </tr>\n",
       "    <tr>\n",
       "      <th>2015-07-02</th>\n",
       "      <td>18.680000</td>\n",
       "      <td>18.830000</td>\n",
       "      <td>18.220667</td>\n",
       "      <td>18.667999</td>\n",
       "      <td>107458500</td>\n",
       "    </tr>\n",
       "    <tr>\n",
       "      <th>2015-07-06</th>\n",
       "      <td>18.591999</td>\n",
       "      <td>18.779333</td>\n",
       "      <td>18.420000</td>\n",
       "      <td>18.648001</td>\n",
       "      <td>61828500</td>\n",
       "    </tr>\n",
       "    <tr>\n",
       "      <th>2015-07-07</th>\n",
       "      <td>18.333332</td>\n",
       "      <td>18.346666</td>\n",
       "      <td>17.384666</td>\n",
       "      <td>17.858667</td>\n",
       "      <td>91576500</td>\n",
       "    </tr>\n",
       "    <tr>\n",
       "      <th>2015-07-08</th>\n",
       "      <td>17.288000</td>\n",
       "      <td>17.386667</td>\n",
       "      <td>16.954000</td>\n",
       "      <td>16.997334</td>\n",
       "      <td>93316500</td>\n",
       "    </tr>\n",
       "  </tbody>\n",
       "</table>\n",
       "</div>"
      ],
      "text/plain": [
       "                 Open       High        Low      Close     Volume\n",
       "Date                                                             \n",
       "2015-07-01  18.073999  18.174667  17.856667  17.943333   31518000\n",
       "2015-07-02  18.680000  18.830000  18.220667  18.667999  107458500\n",
       "2015-07-06  18.591999  18.779333  18.420000  18.648001   61828500\n",
       "2015-07-07  18.333332  18.346666  17.384666  17.858667   91576500\n",
       "2015-07-08  17.288000  17.386667  16.954000  16.997334   93316500"
      ]
     },
     "metadata": {},
     "output_type": "display_data"
    },
    {
     "name": "stdout",
     "output_type": "stream",
     "text": [
      "Fetching data for BND...\n"
     ]
    },
    {
     "name": "stderr",
     "output_type": "stream",
     "text": [
      "/home/chalasimon/Documents/10academy/week 11/challenges/GMF-Time-Series-Forecasting-for-Portfolio-Optimization/notebooks/../src/data_fetch.py:17: FutureWarning: YF.download() has changed argument auto_adjust default to True\n",
      "  df = yf.download(ticker, start=start, end=end, progress=False)\n"
     ]
    },
    {
     "name": "stdout",
     "output_type": "stream",
     "text": [
      " Saved BND data to ../data/BND.csv\n"
     ]
    },
    {
     "data": {
      "application/vnd.microsoft.datawrangler.viewer.v0+json": {
       "columns": [
        {
         "name": "Date",
         "rawType": "datetime64[ns]",
         "type": "datetime"
        },
        {
         "name": "Open",
         "rawType": "float64",
         "type": "float"
        },
        {
         "name": "High",
         "rawType": "float64",
         "type": "float"
        },
        {
         "name": "Low",
         "rawType": "float64",
         "type": "float"
        },
        {
         "name": "Close",
         "rawType": "float64",
         "type": "float"
        },
        {
         "name": "Volume",
         "rawType": "int64",
         "type": "integer"
        }
       ],
       "ref": "e164c22d-62ef-455a-adf4-d7773e065b88",
       "rows": [
        [
         "2015-07-01 00:00:00",
         "60.7942017393917",
         "60.914479107513586",
         "60.76413096350772",
         "60.81675338745117",
         "5399300"
        ],
        [
         "2015-07-02 00:00:00",
         "60.93701602337814",
         "61.02722832922027",
         "60.93701602337814",
         "60.96708679199219",
         "1060100"
        ],
        [
         "2015-07-06 00:00:00",
         "61.22267554164168",
         "61.22267554164168",
         "61.05728920875738",
         "61.17756652832031",
         "2210700"
        ],
        [
         "2015-07-07 00:00:00",
         "61.4106259822818",
         "61.47076178656736",
         "61.23772048950196",
         "61.23772048950195",
         "4183200"
        ],
        [
         "2015-07-08 00:00:00",
         "61.373031749557704",
         "61.463244052731085",
         "61.31289021410879",
         "61.410621643066406",
         "1967800"
        ]
       ],
       "shape": {
        "columns": 5,
        "rows": 5
       }
      },
      "text/html": [
       "<div>\n",
       "<style scoped>\n",
       "    .dataframe tbody tr th:only-of-type {\n",
       "        vertical-align: middle;\n",
       "    }\n",
       "\n",
       "    .dataframe tbody tr th {\n",
       "        vertical-align: top;\n",
       "    }\n",
       "\n",
       "    .dataframe thead th {\n",
       "        text-align: right;\n",
       "    }\n",
       "</style>\n",
       "<table border=\"1\" class=\"dataframe\">\n",
       "  <thead>\n",
       "    <tr style=\"text-align: right;\">\n",
       "      <th></th>\n",
       "      <th>Open</th>\n",
       "      <th>High</th>\n",
       "      <th>Low</th>\n",
       "      <th>Close</th>\n",
       "      <th>Volume</th>\n",
       "    </tr>\n",
       "    <tr>\n",
       "      <th>Date</th>\n",
       "      <th></th>\n",
       "      <th></th>\n",
       "      <th></th>\n",
       "      <th></th>\n",
       "      <th></th>\n",
       "    </tr>\n",
       "  </thead>\n",
       "  <tbody>\n",
       "    <tr>\n",
       "      <th>2015-07-01</th>\n",
       "      <td>60.794202</td>\n",
       "      <td>60.914479</td>\n",
       "      <td>60.764131</td>\n",
       "      <td>60.816753</td>\n",
       "      <td>5399300</td>\n",
       "    </tr>\n",
       "    <tr>\n",
       "      <th>2015-07-02</th>\n",
       "      <td>60.937016</td>\n",
       "      <td>61.027228</td>\n",
       "      <td>60.937016</td>\n",
       "      <td>60.967087</td>\n",
       "      <td>1060100</td>\n",
       "    </tr>\n",
       "    <tr>\n",
       "      <th>2015-07-06</th>\n",
       "      <td>61.222676</td>\n",
       "      <td>61.222676</td>\n",
       "      <td>61.057289</td>\n",
       "      <td>61.177567</td>\n",
       "      <td>2210700</td>\n",
       "    </tr>\n",
       "    <tr>\n",
       "      <th>2015-07-07</th>\n",
       "      <td>61.410626</td>\n",
       "      <td>61.470762</td>\n",
       "      <td>61.237720</td>\n",
       "      <td>61.237720</td>\n",
       "      <td>4183200</td>\n",
       "    </tr>\n",
       "    <tr>\n",
       "      <th>2015-07-08</th>\n",
       "      <td>61.373032</td>\n",
       "      <td>61.463244</td>\n",
       "      <td>61.312890</td>\n",
       "      <td>61.410622</td>\n",
       "      <td>1967800</td>\n",
       "    </tr>\n",
       "  </tbody>\n",
       "</table>\n",
       "</div>"
      ],
      "text/plain": [
       "                 Open       High        Low      Close   Volume\n",
       "Date                                                           \n",
       "2015-07-01  60.794202  60.914479  60.764131  60.816753  5399300\n",
       "2015-07-02  60.937016  61.027228  60.937016  60.967087  1060100\n",
       "2015-07-06  61.222676  61.222676  61.057289  61.177567  2210700\n",
       "2015-07-07  61.410626  61.470762  61.237720  61.237720  4183200\n",
       "2015-07-08  61.373032  61.463244  61.312890  61.410622  1967800"
      ]
     },
     "metadata": {},
     "output_type": "display_data"
    },
    {
     "name": "stdout",
     "output_type": "stream",
     "text": [
      "Fetching data for SPY...\n"
     ]
    },
    {
     "name": "stderr",
     "output_type": "stream",
     "text": [
      "/home/chalasimon/Documents/10academy/week 11/challenges/GMF-Time-Series-Forecasting-for-Portfolio-Optimization/notebooks/../src/data_fetch.py:17: FutureWarning: YF.download() has changed argument auto_adjust default to True\n",
      "  df = yf.download(ticker, start=start, end=end, progress=False)\n"
     ]
    },
    {
     "name": "stdout",
     "output_type": "stream",
     "text": [
      " Saved SPY data to ../data/SPY.csv\n"
     ]
    },
    {
     "data": {
      "application/vnd.microsoft.datawrangler.viewer.v0+json": {
       "columns": [
        {
         "name": "Date",
         "rawType": "datetime64[ns]",
         "type": "datetime"
        },
        {
         "name": "Open",
         "rawType": "float64",
         "type": "float"
        },
        {
         "name": "High",
         "rawType": "float64",
         "type": "float"
        },
        {
         "name": "Low",
         "rawType": "float64",
         "type": "float"
        },
        {
         "name": "Close",
         "rawType": "float64",
         "type": "float"
        },
        {
         "name": "Volume",
         "rawType": "int64",
         "type": "integer"
        }
       ],
       "ref": "28aa1d56-13da-4c36-851f-8b18bc5ce983",
       "rows": [
        [
         "2015-07-01 00:00:00",
         "175.1109794107984",
         "175.3638741746747",
         "174.12470140816666",
         "174.91709899902344",
         "135979900"
        ],
        [
         "2015-07-02 00:00:00",
         "175.39764186849158",
         "175.5662341300755",
         "174.3354861812592",
         "174.75697326660156",
         "104373700"
        ],
        [
         "2015-07-06 00:00:00",
         "173.45879018683098",
         "175.04357280322782",
         "173.2564717652047",
         "174.25961303710938",
         "117975400"
        ],
        [
         "2015-07-07 00:00:00",
         "174.46190311735685",
         "175.4818944449592",
         "172.05942209404085",
         "175.35545349121094",
         "173820200"
        ],
        [
         "2015-07-08 00:00:00",
         "174.0066569181698",
         "174.29326493408666",
         "172.17740524562748",
         "172.41343688964844",
         "164020100"
        ]
       ],
       "shape": {
        "columns": 5,
        "rows": 5
       }
      },
      "text/html": [
       "<div>\n",
       "<style scoped>\n",
       "    .dataframe tbody tr th:only-of-type {\n",
       "        vertical-align: middle;\n",
       "    }\n",
       "\n",
       "    .dataframe tbody tr th {\n",
       "        vertical-align: top;\n",
       "    }\n",
       "\n",
       "    .dataframe thead th {\n",
       "        text-align: right;\n",
       "    }\n",
       "</style>\n",
       "<table border=\"1\" class=\"dataframe\">\n",
       "  <thead>\n",
       "    <tr style=\"text-align: right;\">\n",
       "      <th></th>\n",
       "      <th>Open</th>\n",
       "      <th>High</th>\n",
       "      <th>Low</th>\n",
       "      <th>Close</th>\n",
       "      <th>Volume</th>\n",
       "    </tr>\n",
       "    <tr>\n",
       "      <th>Date</th>\n",
       "      <th></th>\n",
       "      <th></th>\n",
       "      <th></th>\n",
       "      <th></th>\n",
       "      <th></th>\n",
       "    </tr>\n",
       "  </thead>\n",
       "  <tbody>\n",
       "    <tr>\n",
       "      <th>2015-07-01</th>\n",
       "      <td>175.110979</td>\n",
       "      <td>175.363874</td>\n",
       "      <td>174.124701</td>\n",
       "      <td>174.917099</td>\n",
       "      <td>135979900</td>\n",
       "    </tr>\n",
       "    <tr>\n",
       "      <th>2015-07-02</th>\n",
       "      <td>175.397642</td>\n",
       "      <td>175.566234</td>\n",
       "      <td>174.335486</td>\n",
       "      <td>174.756973</td>\n",
       "      <td>104373700</td>\n",
       "    </tr>\n",
       "    <tr>\n",
       "      <th>2015-07-06</th>\n",
       "      <td>173.458790</td>\n",
       "      <td>175.043573</td>\n",
       "      <td>173.256472</td>\n",
       "      <td>174.259613</td>\n",
       "      <td>117975400</td>\n",
       "    </tr>\n",
       "    <tr>\n",
       "      <th>2015-07-07</th>\n",
       "      <td>174.461903</td>\n",
       "      <td>175.481894</td>\n",
       "      <td>172.059422</td>\n",
       "      <td>175.355453</td>\n",
       "      <td>173820200</td>\n",
       "    </tr>\n",
       "    <tr>\n",
       "      <th>2015-07-08</th>\n",
       "      <td>174.006657</td>\n",
       "      <td>174.293265</td>\n",
       "      <td>172.177405</td>\n",
       "      <td>172.413437</td>\n",
       "      <td>164020100</td>\n",
       "    </tr>\n",
       "  </tbody>\n",
       "</table>\n",
       "</div>"
      ],
      "text/plain": [
       "                  Open        High         Low       Close     Volume\n",
       "Date                                                                 \n",
       "2015-07-01  175.110979  175.363874  174.124701  174.917099  135979900\n",
       "2015-07-02  175.397642  175.566234  174.335486  174.756973  104373700\n",
       "2015-07-06  173.458790  175.043573  173.256472  174.259613  117975400\n",
       "2015-07-07  174.461903  175.481894  172.059422  175.355453  173820200\n",
       "2015-07-08  174.006657  174.293265  172.177405  172.413437  164020100"
      ]
     },
     "metadata": {},
     "output_type": "display_data"
    }
   ],
   "source": [
    "# Fetch and save data for each asset\n",
    "for asset in ASSETS:\n",
    "    df = fetch_asset_data(asset, START, END)\n",
    "    display(df.head())"
   ]
  }
 ],
 "metadata": {
  "kernelspec": {
   "display_name": ".venv",
   "language": "python",
   "name": "python3"
  },
  "language_info": {
   "codemirror_mode": {
    "name": "ipython",
    "version": 3
   },
   "file_extension": ".py",
   "mimetype": "text/x-python",
   "name": "python",
   "nbconvert_exporter": "python",
   "pygments_lexer": "ipython3",
   "version": "3.12.3"
  }
 },
 "nbformat": 4,
 "nbformat_minor": 5
}
