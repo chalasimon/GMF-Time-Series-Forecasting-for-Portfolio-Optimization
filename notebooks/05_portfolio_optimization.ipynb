{
 "cells": [
  {
   "cell_type": "markdown",
   "id": "de2b3319",
   "metadata": {},
   "source": [
    "# Task 4: Optimize Portfolio Based on Forecast"
   ]
  },
  {
   "cell_type": "markdown",
   "id": "f61dda98",
   "metadata": {},
   "source": [
    "#### Import Libraries and paths"
   ]
  },
  {
   "cell_type": "code",
   "execution_count": 1,
   "id": "c0540838",
   "metadata": {},
   "outputs": [],
   "source": [
    "# --- Imports & Paths ---\n",
    "import os\n",
    "import pandas as pd\n",
    "import numpy as np\n",
    "\n",
    "# Local modules\n",
    "import sys\n",
    "sys.path.append(\"../src\")\n",
    "\n",
    "from portfolio_opt import (\n",
    "    compute_daily_returns,\n",
    "    expected_return_from_tsla_forecast,\n",
    "    optimize_portfolio,\n",
    "    plot_efficient_frontier,\n",
    "    format_weights\n",
    ")\n"
   ]
  },
  {
   "cell_type": "markdown",
   "id": "ea0f9d12",
   "metadata": {},
   "source": [
    "#### Load historical prices & TSLA forecast"
   ]
  },
  {
   "cell_type": "code",
   "execution_count": 2,
   "id": "022228f2",
   "metadata": {},
   "outputs": [
    {
     "data": {
      "text/plain": [
       "np.float64(-3.441362750737213)"
      ]
     },
     "execution_count": 2,
     "metadata": {},
     "output_type": "execute_result"
    }
   ],
   "source": [
    "\n",
    "tsla_prices = pd.read_csv(\"../data/TSLA.csv\", parse_dates=[\"Date\"]).set_index(\"Date\")[\"Close\"]\n",
    "bnd_prices  = pd.read_csv(\"../data/BND.csv\",  parse_dates=[\"Date\"]).set_index(\"Date\")[\"Close\"]\n",
    "spy_prices  = pd.read_csv(\"../data/SPY.csv\",  parse_dates=[\"Date\"]).set_index(\"Date\")[\"Close\"]\n",
    "\n",
    "prices = pd.concat([tsla_prices.rename(\"TSLA\"),\n",
    "                    bnd_prices.rename(\"BND\"),\n",
    "                    spy_prices.rename(\"SPY\")], axis=1).dropna()\n",
    "\n",
    "# Daily returns (historical) for covariance & BND/SPY expected returns\n",
    "daily_returns = prices.pct_change().dropna()\n",
    "\n",
    "# Loading TSLA forecast from Task 3\n",
    "tsla_fc = pd.read_csv(\"../model/tsla_future_forecast.csv\", parse_dates=[\"Date\"]).set_index(\"Date\")\n",
    "\n",
    "tsla_exp_ann = expected_return_from_tsla_forecast(tsla_fc)\n",
    "tsla_exp_ann\n"
   ]
  }
 ],
 "metadata": {
  "kernelspec": {
   "display_name": ".venv",
   "language": "python",
   "name": "python3"
  },
  "language_info": {
   "codemirror_mode": {
    "name": "ipython",
    "version": 3
   },
   "file_extension": ".py",
   "mimetype": "text/x-python",
   "name": "python",
   "nbconvert_exporter": "python",
   "pygments_lexer": "ipython3",
   "version": "3.12.3"
  }
 },
 "nbformat": 4,
 "nbformat_minor": 5
}
