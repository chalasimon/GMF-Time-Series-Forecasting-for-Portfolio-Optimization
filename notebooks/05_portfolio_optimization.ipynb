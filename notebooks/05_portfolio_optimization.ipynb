{
 "cells": [
  {
   "cell_type": "markdown",
   "id": "de2b3319",
   "metadata": {},
   "source": [
    "# Task 4: Optimize Portfolio Based on Forecast"
   ]
  },
  {
   "cell_type": "markdown",
   "id": "f61dda98",
   "metadata": {},
   "source": [
    "#### Import Libraries and paths"
   ]
  },
  {
   "cell_type": "code",
   "execution_count": 1,
   "id": "c0540838",
   "metadata": {},
   "outputs": [],
   "source": [
    "# --- Imports & Paths ---\n",
    "import os\n",
    "import pandas as pd\n",
    "import numpy as np\n",
    "\n",
    "# Local modules\n",
    "import sys\n",
    "sys.path.append(\"../src\")\n",
    "\n",
    "from portfolio_opt import (\n",
    "    compute_daily_returns,\n",
    "    expected_return_from_tsla_forecast,\n",
    "    optimize_portfolio,\n",
    "    plot_efficient_frontier,\n",
    "    format_weights\n",
    ")\n"
   ]
  }
 ],
 "metadata": {
  "kernelspec": {
   "display_name": ".venv",
   "language": "python",
   "name": "python3"
  },
  "language_info": {
   "codemirror_mode": {
    "name": "ipython",
    "version": 3
   },
   "file_extension": ".py",
   "mimetype": "text/x-python",
   "name": "python",
   "nbconvert_exporter": "python",
   "pygments_lexer": "ipython3",
   "version": "3.12.3"
  }
 },
 "nbformat": 4,
 "nbformat_minor": 5
}
